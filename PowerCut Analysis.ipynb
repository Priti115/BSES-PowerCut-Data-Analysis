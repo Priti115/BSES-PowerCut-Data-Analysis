{
 "cells": [
  {
   "cell_type": "code",
   "execution_count": 1,
   "id": "41576a4d-3639-49db-9619-83e77d9a73ab",
   "metadata": {},
   "outputs": [],
   "source": [
    "import pandas as pd\n",
    "import numpy as np\n",
    "import matplotlib.pyplot as plt\n",
    "import seaborn as sns"
   ]
  },
  {
   "cell_type": "code",
   "execution_count": 2,
   "id": "e177c907-c944-4174-8032-eff1c0a7b632",
   "metadata": {},
   "outputs": [
    {
     "name": "stdout",
     "output_type": "stream",
     "text": [
      "(9756, 13)\n"
     ]
    },
    {
     "data": {
      "text/html": [
       "<div>\n",
       "<style scoped>\n",
       "    .dataframe tbody tr th:only-of-type {\n",
       "        vertical-align: middle;\n",
       "    }\n",
       "\n",
       "    .dataframe tbody tr th {\n",
       "        vertical-align: top;\n",
       "    }\n",
       "\n",
       "    .dataframe thead th {\n",
       "        text-align: right;\n",
       "    }\n",
       "</style>\n",
       "<table border=\"1\" class=\"dataframe\">\n",
       "  <thead>\n",
       "    <tr style=\"text-align: right;\">\n",
       "      <th></th>\n",
       "      <th>MONTH</th>\n",
       "      <th>TYPE</th>\n",
       "      <th>CIRCLE</th>\n",
       "      <th>DIVISION</th>\n",
       "      <th>SUB_DIVISION</th>\n",
       "      <th>SAMPLE</th>\n",
       "      <th>POWEROFF_PREV</th>\n",
       "      <th>KWH_PREV</th>\n",
       "      <th>ESO_PREV</th>\n",
       "      <th>POWEROFF_CURR</th>\n",
       "      <th>KWH_CURR</th>\n",
       "      <th>ESO_CURR</th>\n",
       "      <th>PER_CHANGE</th>\n",
       "    </tr>\n",
       "  </thead>\n",
       "  <tbody>\n",
       "    <tr>\n",
       "      <th>0</th>\n",
       "      <td>202402</td>\n",
       "      <td>WC</td>\n",
       "      <td>CWL, NJF, JFP, MITRAON</td>\n",
       "      <td>2621 - (MITRAON)</td>\n",
       "      <td>NaN</td>\n",
       "      <td>667</td>\n",
       "      <td>15.90</td>\n",
       "      <td>4,05,181</td>\n",
       "      <td>9,171</td>\n",
       "      <td>16.57</td>\n",
       "      <td>3,75,148</td>\n",
       "      <td>7,553</td>\n",
       "      <td>4.21%</td>\n",
       "    </tr>\n",
       "    <tr>\n",
       "      <th>1</th>\n",
       "      <td>202402</td>\n",
       "      <td>WC</td>\n",
       "      <td>DWK</td>\n",
       "      <td>2661</td>\n",
       "      <td>NaN</td>\n",
       "      <td>2,662</td>\n",
       "      <td>3.87</td>\n",
       "      <td>22,23,427</td>\n",
       "      <td>14,462</td>\n",
       "      <td>2.00</td>\n",
       "      <td>23,93,594</td>\n",
       "      <td>8,334</td>\n",
       "      <td>-48.32%</td>\n",
       "    </tr>\n",
       "    <tr>\n",
       "      <th>2</th>\n",
       "      <td>202402</td>\n",
       "      <td>WC</td>\n",
       "      <td>JKP</td>\n",
       "      <td>2610</td>\n",
       "      <td>NaN</td>\n",
       "      <td>8,241</td>\n",
       "      <td>3.05</td>\n",
       "      <td>65,37,234</td>\n",
       "      <td>30,160</td>\n",
       "      <td>2.24</td>\n",
       "      <td>69,55,959</td>\n",
       "      <td>22,258</td>\n",
       "      <td>-26.56%</td>\n",
       "    </tr>\n",
       "    <tr>\n",
       "      <th>3</th>\n",
       "      <td>202402</td>\n",
       "      <td>WC</td>\n",
       "      <td>KHP, SVR, NFC</td>\n",
       "      <td>2511</td>\n",
       "      <td>NaN</td>\n",
       "      <td>704</td>\n",
       "      <td>3.41</td>\n",
       "      <td>11,18,536</td>\n",
       "      <td>5,637</td>\n",
       "      <td>4.21</td>\n",
       "      <td>11,74,879</td>\n",
       "      <td>7,763</td>\n",
       "      <td>23.46%</td>\n",
       "    </tr>\n",
       "    <tr>\n",
       "      <th>4</th>\n",
       "      <td>202402</td>\n",
       "      <td>WC</td>\n",
       "      <td>KHP, SVR, NFC</td>\n",
       "      <td>2541</td>\n",
       "      <td>NaN</td>\n",
       "      <td>791</td>\n",
       "      <td>5.46</td>\n",
       "      <td>12,37,871</td>\n",
       "      <td>10,682</td>\n",
       "      <td>3.78</td>\n",
       "      <td>12,85,470</td>\n",
       "      <td>6,709</td>\n",
       "      <td>-30.77%</td>\n",
       "    </tr>\n",
       "  </tbody>\n",
       "</table>\n",
       "</div>"
      ],
      "text/plain": [
       "    MONTH  TYPE                  CIRCLE          DIVISION SUB_DIVISION SAMPLE  \\\n",
       "0  202402  WC    CWL, NJF, JFP, MITRAON  2621 - (MITRAON)          NaN    667   \n",
       "1  202402  WC                       DWK              2661          NaN  2,662   \n",
       "2  202402  WC                       JKP              2610          NaN  8,241   \n",
       "3  202402  WC             KHP, SVR, NFC              2511          NaN    704   \n",
       "4  202402  WC             KHP, SVR, NFC              2541          NaN    791   \n",
       "\n",
       "   POWEROFF_PREV   KWH_PREV ESO_PREV  POWEROFF_CURR   KWH_CURR ESO_CURR  \\\n",
       "0          15.90   4,05,181    9,171          16.57   3,75,148    7,553   \n",
       "1           3.87  22,23,427   14,462           2.00  23,93,594    8,334   \n",
       "2           3.05  65,37,234   30,160           2.24  69,55,959   22,258   \n",
       "3           3.41  11,18,536    5,637           4.21  11,74,879    7,763   \n",
       "4           5.46  12,37,871   10,682           3.78  12,85,470    6,709   \n",
       "\n",
       "  PER_CHANGE  \n",
       "0      4.21%  \n",
       "1    -48.32%  \n",
       "2    -26.56%  \n",
       "3     23.46%  \n",
       "4    -30.77%  "
      ]
     },
     "execution_count": 2,
     "metadata": {},
     "output_type": "execute_result"
    }
   ],
   "source": [
    "df = pd.read_csv(\"PowerCut Data.csv\")\n",
    "print(df.shape)\n",
    "df.head()"
   ]
  },
  {
   "cell_type": "code",
   "execution_count": 3,
   "id": "30a93740-0510-490c-a69b-3823dd16ef1f",
   "metadata": {},
   "outputs": [
    {
     "name": "stdout",
     "output_type": "stream",
     "text": [
      "<class 'pandas.core.frame.DataFrame'>\n",
      "RangeIndex: 9756 entries, 0 to 9755\n",
      "Data columns (total 13 columns):\n",
      " #   Column         Non-Null Count  Dtype  \n",
      "---  ------         --------------  -----  \n",
      " 0   MONTH          9756 non-null   int64  \n",
      " 1   TYPE           9756 non-null   object \n",
      " 2   CIRCLE         9684 non-null   object \n",
      " 3   DIVISION       8400 non-null   object \n",
      " 4   SUB_DIVISION   6528 non-null   object \n",
      " 5   SAMPLE         9756 non-null   object \n",
      " 6   POWEROFF_PREV  9756 non-null   float64\n",
      " 7   KWH_PREV       9756 non-null   object \n",
      " 8   ESO_PREV       9756 non-null   object \n",
      " 9   POWEROFF_CURR  9756 non-null   float64\n",
      " 10  KWH_CURR       9756 non-null   object \n",
      " 11  ESO_CURR       9756 non-null   object \n",
      " 12  PER_CHANGE     9756 non-null   object \n",
      "dtypes: float64(2), int64(1), object(10)\n",
      "memory usage: 991.0+ KB\n"
     ]
    }
   ],
   "source": [
    "df.info()"
   ]
  },
  {
   "cell_type": "code",
   "execution_count": 4,
   "id": "2d8e9780-7e28-4bc3-b062-a72f53e19311",
   "metadata": {},
   "outputs": [
    {
     "data": {
      "text/plain": [
       "MONTH               0\n",
       "TYPE                0\n",
       "CIRCLE             72\n",
       "DIVISION         1356\n",
       "SUB_DIVISION     3228\n",
       "SAMPLE              0\n",
       "POWEROFF_PREV       0\n",
       "KWH_PREV            0\n",
       "ESO_PREV            0\n",
       "POWEROFF_CURR       0\n",
       "KWH_CURR            0\n",
       "ESO_CURR            0\n",
       "PER_CHANGE          0\n",
       "dtype: int64"
      ]
     },
     "execution_count": 4,
     "metadata": {},
     "output_type": "execute_result"
    }
   ],
   "source": [
    "df.isnull().sum()"
   ]
  },
  {
   "cell_type": "code",
   "execution_count": 5,
   "id": "8d3f67dc-95c9-4e50-ab85-2aa4bf8e63aa",
   "metadata": {},
   "outputs": [
    {
     "data": {
      "text/html": [
       "<div>\n",
       "<style scoped>\n",
       "    .dataframe tbody tr th:only-of-type {\n",
       "        vertical-align: middle;\n",
       "    }\n",
       "\n",
       "    .dataframe tbody tr th {\n",
       "        vertical-align: top;\n",
       "    }\n",
       "\n",
       "    .dataframe thead th {\n",
       "        text-align: right;\n",
       "    }\n",
       "</style>\n",
       "<table border=\"1\" class=\"dataframe\">\n",
       "  <thead>\n",
       "    <tr style=\"text-align: right;\">\n",
       "      <th></th>\n",
       "      <th>MONTH</th>\n",
       "      <th>POWEROFF_PREV</th>\n",
       "      <th>POWEROFF_CURR</th>\n",
       "    </tr>\n",
       "  </thead>\n",
       "  <tbody>\n",
       "    <tr>\n",
       "      <th>count</th>\n",
       "      <td>9756.000000</td>\n",
       "      <td>9756.000000</td>\n",
       "      <td>9756.000000</td>\n",
       "    </tr>\n",
       "    <tr>\n",
       "      <th>mean</th>\n",
       "      <td>202381.561501</td>\n",
       "      <td>6.181121</td>\n",
       "      <td>5.725043</td>\n",
       "    </tr>\n",
       "    <tr>\n",
       "      <th>std</th>\n",
       "      <td>64.516196</td>\n",
       "      <td>6.410511</td>\n",
       "      <td>5.404626</td>\n",
       "    </tr>\n",
       "    <tr>\n",
       "      <th>min</th>\n",
       "      <td>202304.000000</td>\n",
       "      <td>0.060000</td>\n",
       "      <td>0.130000</td>\n",
       "    </tr>\n",
       "    <tr>\n",
       "      <th>25%</th>\n",
       "      <td>202310.000000</td>\n",
       "      <td>2.320000</td>\n",
       "      <td>2.230000</td>\n",
       "    </tr>\n",
       "    <tr>\n",
       "      <th>50%</th>\n",
       "      <td>202404.000000</td>\n",
       "      <td>3.895000</td>\n",
       "      <td>3.750000</td>\n",
       "    </tr>\n",
       "    <tr>\n",
       "      <th>75%</th>\n",
       "      <td>202410.000000</td>\n",
       "      <td>7.440000</td>\n",
       "      <td>7.210000</td>\n",
       "    </tr>\n",
       "    <tr>\n",
       "      <th>max</th>\n",
       "      <td>202503.000000</td>\n",
       "      <td>75.780000</td>\n",
       "      <td>55.370000</td>\n",
       "    </tr>\n",
       "  </tbody>\n",
       "</table>\n",
       "</div>"
      ],
      "text/plain": [
       "               MONTH  POWEROFF_PREV  POWEROFF_CURR\n",
       "count    9756.000000    9756.000000    9756.000000\n",
       "mean   202381.561501       6.181121       5.725043\n",
       "std        64.516196       6.410511       5.404626\n",
       "min    202304.000000       0.060000       0.130000\n",
       "25%    202310.000000       2.320000       2.230000\n",
       "50%    202404.000000       3.895000       3.750000\n",
       "75%    202410.000000       7.440000       7.210000\n",
       "max    202503.000000      75.780000      55.370000"
      ]
     },
     "execution_count": 5,
     "metadata": {},
     "output_type": "execute_result"
    }
   ],
   "source": [
    "df.describe()"
   ]
  },
  {
   "cell_type": "markdown",
   "id": "f07a6576-2b95-46cf-a3f5-16b1131f595a",
   "metadata": {},
   "source": [
    "### Cleaning the data"
   ]
  },
  {
   "cell_type": "code",
   "execution_count": 6,
   "id": "bc38fb6b-70bf-4b6c-bb14-febb3e5845b1",
   "metadata": {},
   "outputs": [
    {
     "data": {
      "text/html": [
       "<div>\n",
       "<style scoped>\n",
       "    .dataframe tbody tr th:only-of-type {\n",
       "        vertical-align: middle;\n",
       "    }\n",
       "\n",
       "    .dataframe tbody tr th {\n",
       "        vertical-align: top;\n",
       "    }\n",
       "\n",
       "    .dataframe thead th {\n",
       "        text-align: right;\n",
       "    }\n",
       "</style>\n",
       "<table border=\"1\" class=\"dataframe\">\n",
       "  <thead>\n",
       "    <tr style=\"text-align: right;\">\n",
       "      <th></th>\n",
       "      <th>MONTH</th>\n",
       "      <th>TYPE</th>\n",
       "      <th>CIRCLE</th>\n",
       "      <th>DIVISION</th>\n",
       "      <th>SUB_DIVISION</th>\n",
       "      <th>SAMPLE</th>\n",
       "      <th>POWEROFF_PREV</th>\n",
       "      <th>KWH_PREV</th>\n",
       "      <th>ESO_PREV</th>\n",
       "      <th>POWEROFF_CURR</th>\n",
       "      <th>KWH_CURR</th>\n",
       "      <th>ESO_CURR</th>\n",
       "      <th>PER_CHANGE</th>\n",
       "    </tr>\n",
       "  </thead>\n",
       "  <tbody>\n",
       "    <tr>\n",
       "      <th>0</th>\n",
       "      <td>202402</td>\n",
       "      <td>WC</td>\n",
       "      <td>CWL, NJF, JFP, MITRAON</td>\n",
       "      <td>2621 - (MITRAON)</td>\n",
       "      <td>NaN</td>\n",
       "      <td>667</td>\n",
       "      <td>15.90</td>\n",
       "      <td>4,05,181</td>\n",
       "      <td>9,171</td>\n",
       "      <td>16.57</td>\n",
       "      <td>3,75,148</td>\n",
       "      <td>7,553</td>\n",
       "      <td>4.21%</td>\n",
       "    </tr>\n",
       "    <tr>\n",
       "      <th>1</th>\n",
       "      <td>202402</td>\n",
       "      <td>WC</td>\n",
       "      <td>DWK</td>\n",
       "      <td>2661</td>\n",
       "      <td>NaN</td>\n",
       "      <td>2662</td>\n",
       "      <td>3.87</td>\n",
       "      <td>22,23,427</td>\n",
       "      <td>14,462</td>\n",
       "      <td>2.00</td>\n",
       "      <td>23,93,594</td>\n",
       "      <td>8,334</td>\n",
       "      <td>-48.32%</td>\n",
       "    </tr>\n",
       "    <tr>\n",
       "      <th>2</th>\n",
       "      <td>202402</td>\n",
       "      <td>WC</td>\n",
       "      <td>JKP</td>\n",
       "      <td>2610</td>\n",
       "      <td>NaN</td>\n",
       "      <td>8241</td>\n",
       "      <td>3.05</td>\n",
       "      <td>65,37,234</td>\n",
       "      <td>30,160</td>\n",
       "      <td>2.24</td>\n",
       "      <td>69,55,959</td>\n",
       "      <td>22,258</td>\n",
       "      <td>-26.56%</td>\n",
       "    </tr>\n",
       "    <tr>\n",
       "      <th>3</th>\n",
       "      <td>202402</td>\n",
       "      <td>WC</td>\n",
       "      <td>KHP, SVR, NFC</td>\n",
       "      <td>2511</td>\n",
       "      <td>NaN</td>\n",
       "      <td>704</td>\n",
       "      <td>3.41</td>\n",
       "      <td>11,18,536</td>\n",
       "      <td>5,637</td>\n",
       "      <td>4.21</td>\n",
       "      <td>11,74,879</td>\n",
       "      <td>7,763</td>\n",
       "      <td>23.46%</td>\n",
       "    </tr>\n",
       "    <tr>\n",
       "      <th>4</th>\n",
       "      <td>202402</td>\n",
       "      <td>WC</td>\n",
       "      <td>KHP, SVR, NFC</td>\n",
       "      <td>2541</td>\n",
       "      <td>NaN</td>\n",
       "      <td>791</td>\n",
       "      <td>5.46</td>\n",
       "      <td>12,37,871</td>\n",
       "      <td>10,682</td>\n",
       "      <td>3.78</td>\n",
       "      <td>12,85,470</td>\n",
       "      <td>6,709</td>\n",
       "      <td>-30.77%</td>\n",
       "    </tr>\n",
       "  </tbody>\n",
       "</table>\n",
       "</div>"
      ],
      "text/plain": [
       "    MONTH  TYPE                  CIRCLE          DIVISION SUB_DIVISION SAMPLE  \\\n",
       "0  202402  WC    CWL, NJF, JFP, MITRAON  2621 - (MITRAON)          NaN    667   \n",
       "1  202402  WC                       DWK              2661          NaN   2662   \n",
       "2  202402  WC                       JKP              2610          NaN   8241   \n",
       "3  202402  WC             KHP, SVR, NFC              2511          NaN    704   \n",
       "4  202402  WC             KHP, SVR, NFC              2541          NaN    791   \n",
       "\n",
       "   POWEROFF_PREV   KWH_PREV ESO_PREV  POWEROFF_CURR   KWH_CURR ESO_CURR  \\\n",
       "0          15.90   4,05,181    9,171          16.57   3,75,148    7,553   \n",
       "1           3.87  22,23,427   14,462           2.00  23,93,594    8,334   \n",
       "2           3.05  65,37,234   30,160           2.24  69,55,959   22,258   \n",
       "3           3.41  11,18,536    5,637           4.21  11,74,879    7,763   \n",
       "4           5.46  12,37,871   10,682           3.78  12,85,470    6,709   \n",
       "\n",
       "  PER_CHANGE  \n",
       "0      4.21%  \n",
       "1    -48.32%  \n",
       "2    -26.56%  \n",
       "3     23.46%  \n",
       "4    -30.77%  "
      ]
     },
     "execution_count": 6,
     "metadata": {},
     "output_type": "execute_result"
    }
   ],
   "source": [
    "# ➡️ Cleans the 'SAMPLE' column by removing commas and extra spaces from strings.\n",
    "df['SAMPLE'] = df['SAMPLE'].str.replace(',', '').str.strip()\n",
    "df.head()"
   ]
  },
  {
   "cell_type": "code",
   "execution_count": 7,
   "id": "f85c0412-d712-4d88-8bc8-4f52afdcc30d",
   "metadata": {},
   "outputs": [
    {
     "name": "stderr",
     "output_type": "stream",
     "text": [
      "C:\\Users\\Lenovo\\AppData\\Local\\Temp\\ipykernel_5776\\716469632.py:2: FutureWarning: Downcasting object dtype arrays on .fillna, .ffill, .bfill is deprecated and will change in a future version. Call result.infer_objects(copy=False) instead. To opt-in to the future behavior, set `pd.set_option('future.no_silent_downcasting', True)`\n",
      "  df['DIVISION'] = df.groupby('SAMPLE')['DIVISION'].transform(lambda x: x.ffill().bfill())\n",
      "C:\\Users\\Lenovo\\AppData\\Local\\Temp\\ipykernel_5776\\716469632.py:3: FutureWarning: Downcasting object dtype arrays on .fillna, .ffill, .bfill is deprecated and will change in a future version. Call result.infer_objects(copy=False) instead. To opt-in to the future behavior, set `pd.set_option('future.no_silent_downcasting', True)`\n",
      "  df['SUB_DIVISION'] = df.groupby('SAMPLE')['SUB_DIVISION'].transform(lambda x: x.ffill().bfill())\n"
     ]
    }
   ],
   "source": [
    "# Fill missing values by SAMPLE (forward and backward)\n",
    "df['DIVISION'] = df.groupby('SAMPLE')['DIVISION'].transform(lambda x: x.ffill().bfill())\n",
    "df['SUB_DIVISION'] = df.groupby('SAMPLE')['SUB_DIVISION'].transform(lambda x: x.ffill().bfill())"
   ]
  },
  {
   "cell_type": "code",
   "execution_count": 8,
   "id": "048f685a-78db-4989-bcf7-8ab1dd46993d",
   "metadata": {},
   "outputs": [],
   "source": [
    "df['DIVISION'] = df.groupby(['CIRCLE', 'TYPE', 'MONTH'])['DIVISION'].transform(lambda x: x.ffill().bfill())\n",
    "df['SUB_DIVISION'] = df.groupby(['DIVISION', 'TYPE', 'MONTH'])['SUB_DIVISION'].transform(lambda x: x.ffill().bfill())"
   ]
  },
  {
   "cell_type": "code",
   "execution_count": 9,
   "id": "c0cbacd6-b533-4572-9d5f-9a88c5621302",
   "metadata": {},
   "outputs": [
    {
     "data": {
      "text/plain": [
       "MONTH             0\n",
       "TYPE              0\n",
       "CIRCLE           72\n",
       "DIVISION         72\n",
       "SUB_DIVISION     72\n",
       "SAMPLE            0\n",
       "POWEROFF_PREV     0\n",
       "KWH_PREV          0\n",
       "ESO_PREV          0\n",
       "POWEROFF_CURR     0\n",
       "KWH_CURR          0\n",
       "ESO_CURR          0\n",
       "PER_CHANGE        0\n",
       "dtype: int64"
      ]
     },
     "execution_count": 9,
     "metadata": {},
     "output_type": "execute_result"
    }
   ],
   "source": [
    "df.isnull().sum()"
   ]
  },
  {
   "cell_type": "markdown",
   "id": "ef6c61a0-f5ef-4686-aac0-c063f7ecf0b6",
   "metadata": {},
   "source": [
    "### Lent's check the value we filled is this is logical or wrong filling"
   ]
  },
  {
   "cell_type": "code",
   "execution_count": 10,
   "id": "d2484300-7b43-4158-8b8a-8a04b6e94432",
   "metadata": {},
   "outputs": [
    {
     "data": {
      "text/html": [
       "<div>\n",
       "<style scoped>\n",
       "    .dataframe tbody tr th:only-of-type {\n",
       "        vertical-align: middle;\n",
       "    }\n",
       "\n",
       "    .dataframe tbody tr th {\n",
       "        vertical-align: top;\n",
       "    }\n",
       "\n",
       "    .dataframe thead th {\n",
       "        text-align: right;\n",
       "    }\n",
       "</style>\n",
       "<table border=\"1\" class=\"dataframe\">\n",
       "  <thead>\n",
       "    <tr style=\"text-align: right;\">\n",
       "      <th></th>\n",
       "      <th>DIVISION</th>\n",
       "      <th>SUB_DIVISION</th>\n",
       "    </tr>\n",
       "    <tr>\n",
       "      <th>SAMPLE</th>\n",
       "      <th></th>\n",
       "      <th></th>\n",
       "    </tr>\n",
       "  </thead>\n",
       "  <tbody>\n",
       "    <tr>\n",
       "      <th>115</th>\n",
       "      <td>10</td>\n",
       "      <td>9</td>\n",
       "    </tr>\n",
       "    <tr>\n",
       "      <th>55</th>\n",
       "      <td>10</td>\n",
       "      <td>9</td>\n",
       "    </tr>\n",
       "    <tr>\n",
       "      <th>56</th>\n",
       "      <td>9</td>\n",
       "      <td>10</td>\n",
       "    </tr>\n",
       "    <tr>\n",
       "      <th>52</th>\n",
       "      <td>9</td>\n",
       "      <td>9</td>\n",
       "    </tr>\n",
       "    <tr>\n",
       "      <th>121</th>\n",
       "      <td>8</td>\n",
       "      <td>8</td>\n",
       "    </tr>\n",
       "    <tr>\n",
       "      <th>...</th>\n",
       "      <td>...</td>\n",
       "      <td>...</td>\n",
       "    </tr>\n",
       "    <tr>\n",
       "      <th>1724342</th>\n",
       "      <td>0</td>\n",
       "      <td>0</td>\n",
       "    </tr>\n",
       "    <tr>\n",
       "      <th>1697134</th>\n",
       "      <td>0</td>\n",
       "      <td>0</td>\n",
       "    </tr>\n",
       "    <tr>\n",
       "      <th>1668547</th>\n",
       "      <td>0</td>\n",
       "      <td>0</td>\n",
       "    </tr>\n",
       "    <tr>\n",
       "      <th>137983</th>\n",
       "      <td>0</td>\n",
       "      <td>0</td>\n",
       "    </tr>\n",
       "    <tr>\n",
       "      <th>1550654</th>\n",
       "      <td>0</td>\n",
       "      <td>0</td>\n",
       "    </tr>\n",
       "  </tbody>\n",
       "</table>\n",
       "<p>5012 rows × 2 columns</p>\n",
       "</div>"
      ],
      "text/plain": [
       "         DIVISION  SUB_DIVISION\n",
       "SAMPLE                         \n",
       "115            10             9\n",
       "55             10             9\n",
       "56              9            10\n",
       "52              9             9\n",
       "121             8             8\n",
       "...           ...           ...\n",
       "1724342         0             0\n",
       "1697134         0             0\n",
       "1668547         0             0\n",
       "137983          0             0\n",
       "1550654         0             0\n",
       "\n",
       "[5012 rows x 2 columns]"
      ]
     },
     "execution_count": 10,
     "metadata": {},
     "output_type": "execute_result"
    }
   ],
   "source": [
    "df.groupby('SAMPLE')[['DIVISION', 'SUB_DIVISION']].nunique().sort_values(by='DIVISION', ascending=False)"
   ]
  },
  {
   "cell_type": "code",
   "execution_count": 11,
   "id": "32ba2943-0452-4ef7-a5c0-1786409ffe20",
   "metadata": {},
   "outputs": [
    {
     "name": "stdout",
     "output_type": "stream",
     "text": [
      "count    9684.000000\n",
      "mean        5.733625\n",
      "std         5.422315\n",
      "min         0.130000\n",
      "25%         2.220000\n",
      "50%         3.730000\n",
      "75%         7.260000\n",
      "max        55.370000\n",
      "Name: POWEROFF_CURR, dtype: float64\n",
      "\n",
      "count    72.000000\n",
      "mean      4.570833\n",
      "std       1.463140\n",
      "min       1.940000\n",
      "25%       3.550000\n",
      "50%       4.375000\n",
      "75%       5.412500\n",
      "max       9.810000\n",
      "Name: POWEROFF_CURR, dtype: float64\n"
     ]
    }
   ],
   "source": [
    "filled_rows = df[df['DIVISION'].notnull()]\n",
    "null_rows = df[df['DIVISION'].isnull()]\n",
    "\n",
    "\n",
    "print(filled_rows['POWEROFF_CURR'].describe())\n",
    "print()\n",
    "print(null_rows['POWEROFF_CURR'].describe())\n",
    "# We check whether rows with missing 'DIVISION' have different behavior (e.g., unusually high/low power cuts). \n",
    "# Through this we have a clarity that should we keep the rows or not"
   ]
  },
  {
   "cell_type": "code",
   "execution_count": 12,
   "id": "5ec58043-9e9b-4285-b0e5-8847ab238340",
   "metadata": {},
   "outputs": [
    {
     "name": "stderr",
     "output_type": "stream",
     "text": [
      "C:\\Users\\Lenovo\\AppData\\Local\\Temp\\ipykernel_5776\\575509116.py:2: FutureWarning: Downcasting object dtype arrays on .fillna, .ffill, .bfill is deprecated and will change in a future version. Call result.infer_objects(copy=False) instead. To opt-in to the future behavior, set `pd.set_option('future.no_silent_downcasting', True)`\n",
      "  df['DIVISION'] = df.groupby('SAMPLE')['DIVISION'].transform(lambda x: x.ffill().bfill())\n"
     ]
    }
   ],
   "source": [
    "df['DIVISION_WAS_FILLED'] = df['DIVISION'].isnull()\n",
    "df['DIVISION'] = df.groupby('SAMPLE')['DIVISION'].transform(lambda x: x.ffill().bfill())\n",
    "df['DIVISION_WAS_FILLED'] = df['DIVISION_WAS_FILLED'] & df['DIVISION'].notnull()"
   ]
  },
  {
   "cell_type": "code",
   "execution_count": 13,
   "id": "d6f15383-ba4d-4527-9774-ab0692039fc0",
   "metadata": {},
   "outputs": [
    {
     "data": {
      "text/html": [
       "<div>\n",
       "<style scoped>\n",
       "    .dataframe tbody tr th:only-of-type {\n",
       "        vertical-align: middle;\n",
       "    }\n",
       "\n",
       "    .dataframe tbody tr th {\n",
       "        vertical-align: top;\n",
       "    }\n",
       "\n",
       "    .dataframe thead th {\n",
       "        text-align: right;\n",
       "    }\n",
       "</style>\n",
       "<table border=\"1\" class=\"dataframe\">\n",
       "  <thead>\n",
       "    <tr style=\"text-align: right;\">\n",
       "      <th></th>\n",
       "      <th>MONTH</th>\n",
       "      <th>TYPE</th>\n",
       "      <th>CIRCLE</th>\n",
       "      <th>DIVISION</th>\n",
       "      <th>SUB_DIVISION</th>\n",
       "      <th>SAMPLE</th>\n",
       "      <th>POWEROFF_PREV</th>\n",
       "      <th>KWH_PREV</th>\n",
       "      <th>ESO_PREV</th>\n",
       "      <th>POWEROFF_CURR</th>\n",
       "      <th>KWH_CURR</th>\n",
       "      <th>ESO_CURR</th>\n",
       "      <th>PER_CHANGE</th>\n",
       "      <th>DIVISION_WAS_FILLED</th>\n",
       "    </tr>\n",
       "  </thead>\n",
       "  <tbody>\n",
       "    <tr>\n",
       "      <th>5379</th>\n",
       "      <td>202411</td>\n",
       "      <td>LT</td>\n",
       "      <td>NaN</td>\n",
       "      <td>2610</td>\n",
       "      <td>NaN</td>\n",
       "      <td>8783</td>\n",
       "      <td>2.75</td>\n",
       "      <td>5,22,55,529</td>\n",
       "      <td>2,30,159</td>\n",
       "      <td>2.74</td>\n",
       "      <td>5,47,99,586</td>\n",
       "      <td>2,39,284</td>\n",
       "      <td>-.36%</td>\n",
       "      <td>True</td>\n",
       "    </tr>\n",
       "    <tr>\n",
       "      <th>6389</th>\n",
       "      <td>202409</td>\n",
       "      <td>LT</td>\n",
       "      <td>NaN</td>\n",
       "      <td>2610</td>\n",
       "      <td>NaN</td>\n",
       "      <td>8787</td>\n",
       "      <td>4.26</td>\n",
       "      <td>7,55,78,781</td>\n",
       "      <td>4,68,480</td>\n",
       "      <td>5.54</td>\n",
       "      <td>7,27,77,830</td>\n",
       "      <td>6,07,606</td>\n",
       "      <td>30.05%</td>\n",
       "      <td>True</td>\n",
       "    </tr>\n",
       "  </tbody>\n",
       "</table>\n",
       "</div>"
      ],
      "text/plain": [
       "       MONTH  TYPE CIRCLE DIVISION SUB_DIVISION SAMPLE  POWEROFF_PREV  \\\n",
       "5379  202411  LT      NaN     2610          NaN   8783           2.75   \n",
       "6389  202409  LT      NaN     2610          NaN   8787           4.26   \n",
       "\n",
       "         KWH_PREV  ESO_PREV  POWEROFF_CURR     KWH_CURR  ESO_CURR PER_CHANGE  \\\n",
       "5379  5,22,55,529  2,30,159           2.74  5,47,99,586  2,39,284      -.36%   \n",
       "6389  7,55,78,781  4,68,480           5.54  7,27,77,830  6,07,606     30.05%   \n",
       "\n",
       "      DIVISION_WAS_FILLED  \n",
       "5379                 True  \n",
       "6389                 True  "
      ]
     },
     "execution_count": 13,
     "metadata": {},
     "output_type": "execute_result"
    }
   ],
   "source": [
    "df[df['DIVISION_WAS_FILLED']].head()"
   ]
  },
  {
   "cell_type": "code",
   "execution_count": 14,
   "id": "d3187fd2-0481-4057-a633-4a1e433d9884",
   "metadata": {
    "scrolled": true
   },
   "outputs": [],
   "source": [
    "df.dropna()\n",
    "df = df[df['DIVISION'].notnull()]\n",
    "df = df.dropna(subset=['CIRCLE'])"
   ]
  },
  {
   "cell_type": "markdown",
   "id": "bfe6a9c4-bdb3-46f1-8bc0-6599c87107f8",
   "metadata": {},
   "source": [
    "#### Drop Unuse Columns"
   ]
  },
  {
   "cell_type": "code",
   "execution_count": 15,
   "id": "7c955246-9848-465a-8685-b7ac253b61c0",
   "metadata": {},
   "outputs": [
    {
     "name": "stdout",
     "output_type": "stream",
     "text": [
      "(9684, 8)\n"
     ]
    },
    {
     "data": {
      "text/html": [
       "<div>\n",
       "<style scoped>\n",
       "    .dataframe tbody tr th:only-of-type {\n",
       "        vertical-align: middle;\n",
       "    }\n",
       "\n",
       "    .dataframe tbody tr th {\n",
       "        vertical-align: top;\n",
       "    }\n",
       "\n",
       "    .dataframe thead th {\n",
       "        text-align: right;\n",
       "    }\n",
       "</style>\n",
       "<table border=\"1\" class=\"dataframe\">\n",
       "  <thead>\n",
       "    <tr style=\"text-align: right;\">\n",
       "      <th></th>\n",
       "      <th>MONTH</th>\n",
       "      <th>TYPE</th>\n",
       "      <th>CIRCLE</th>\n",
       "      <th>DIVISION</th>\n",
       "      <th>POWEROFF_CURR</th>\n",
       "      <th>KWH_CURR</th>\n",
       "      <th>ESO_CURR</th>\n",
       "      <th>PER_CHANGE</th>\n",
       "    </tr>\n",
       "  </thead>\n",
       "  <tbody>\n",
       "    <tr>\n",
       "      <th>0</th>\n",
       "      <td>202402</td>\n",
       "      <td>WC</td>\n",
       "      <td>CWL, NJF, JFP, MITRAON</td>\n",
       "      <td>2621 - (MITRAON)</td>\n",
       "      <td>16.57</td>\n",
       "      <td>3,75,148</td>\n",
       "      <td>7,553</td>\n",
       "      <td>4.21%</td>\n",
       "    </tr>\n",
       "    <tr>\n",
       "      <th>1</th>\n",
       "      <td>202402</td>\n",
       "      <td>WC</td>\n",
       "      <td>DWK</td>\n",
       "      <td>2661</td>\n",
       "      <td>2.00</td>\n",
       "      <td>23,93,594</td>\n",
       "      <td>8,334</td>\n",
       "      <td>-48.32%</td>\n",
       "    </tr>\n",
       "    <tr>\n",
       "      <th>2</th>\n",
       "      <td>202402</td>\n",
       "      <td>WC</td>\n",
       "      <td>JKP</td>\n",
       "      <td>2610</td>\n",
       "      <td>2.24</td>\n",
       "      <td>69,55,959</td>\n",
       "      <td>22,258</td>\n",
       "      <td>-26.56%</td>\n",
       "    </tr>\n",
       "    <tr>\n",
       "      <th>3</th>\n",
       "      <td>202402</td>\n",
       "      <td>WC</td>\n",
       "      <td>KHP, SVR, NFC</td>\n",
       "      <td>2511</td>\n",
       "      <td>4.21</td>\n",
       "      <td>11,74,879</td>\n",
       "      <td>7,763</td>\n",
       "      <td>23.46%</td>\n",
       "    </tr>\n",
       "    <tr>\n",
       "      <th>4</th>\n",
       "      <td>202402</td>\n",
       "      <td>WC</td>\n",
       "      <td>KHP, SVR, NFC</td>\n",
       "      <td>2541</td>\n",
       "      <td>3.78</td>\n",
       "      <td>12,85,470</td>\n",
       "      <td>6,709</td>\n",
       "      <td>-30.77%</td>\n",
       "    </tr>\n",
       "  </tbody>\n",
       "</table>\n",
       "</div>"
      ],
      "text/plain": [
       "    MONTH  TYPE                  CIRCLE          DIVISION  POWEROFF_CURR  \\\n",
       "0  202402  WC    CWL, NJF, JFP, MITRAON  2621 - (MITRAON)          16.57   \n",
       "1  202402  WC                       DWK              2661           2.00   \n",
       "2  202402  WC                       JKP              2610           2.24   \n",
       "3  202402  WC             KHP, SVR, NFC              2511           4.21   \n",
       "4  202402  WC             KHP, SVR, NFC              2541           3.78   \n",
       "\n",
       "    KWH_CURR ESO_CURR PER_CHANGE  \n",
       "0   3,75,148    7,553      4.21%  \n",
       "1  23,93,594    8,334    -48.32%  \n",
       "2  69,55,959   22,258    -26.56%  \n",
       "3  11,74,879    7,763     23.46%  \n",
       "4  12,85,470    6,709    -30.77%  "
      ]
     },
     "execution_count": 15,
     "metadata": {},
     "output_type": "execute_result"
    }
   ],
   "source": [
    "df.drop(columns=['SAMPLE', 'DIVISION_WAS_FILLED', 'KWH_PREV', 'ESO_PREV', 'POWEROFF_PREV', 'SUB_DIVISION'], inplace=True)\n",
    "print(df.shape)\n",
    "df.head()"
   ]
  },
  {
   "cell_type": "code",
   "execution_count": 16,
   "id": "b1251dd6-99d8-4f92-ac22-9d9b5d3c0f71",
   "metadata": {},
   "outputs": [],
   "source": [
    "# Convert Data type\n",
    "df['MONTH'] = pd.to_datetime(df['MONTH'].astype(str), format='%Y%m')\n",
    "# -----------------------------------------------------------------------\n",
    "cols_to_clean = ['KWH_CURR', 'ESO_CURR']\n",
    "for col in cols_to_clean:\n",
    "    df[col] = df[col].str.replace(',', '', regex=True).astype(float)\n",
    "# -------------------------------------------------------------------------\n",
    "df['PER_CHANGE'] = df['PER_CHANGE'].str.replace('%', '', regex=False).astype(float)\n",
    "# --------------------------------------------------------------------------"
   ]
  },
  {
   "cell_type": "markdown",
   "id": "f55027cc-4c44-4d1b-9f04-246bc45b993f",
   "metadata": {},
   "source": [
    "<h3 style = \"color:yellow\">1) How has the average power cut duration changed over time (monthly trend)?</h3>"
   ]
  },
  {
   "cell_type": "code",
   "execution_count": 25,
   "id": "3847d664-d22d-42a9-9c64-d66f2389075e",
   "metadata": {},
   "outputs": [
    {
     "data": {
      "text/plain": [
       "MONTH\n",
       "2023-04-01    5.272407\n",
       "2023-05-01    7.543697\n",
       "2023-06-01    5.982407\n",
       "2023-07-01    5.998561\n",
       "2023-08-01    5.839628\n",
       "2023-09-01    5.565484\n",
       "2023-10-01    4.825856\n",
       "2023-11-01    3.758809\n",
       "2023-12-01    5.172705\n",
       "2024-01-01    5.584789\n",
       "2024-02-01    5.362779\n",
       "2024-03-01    5.210447\n",
       "2024-04-01    5.235792\n",
       "2024-05-01    8.102228\n",
       "2024-06-01    9.126064\n",
       "2024-07-01    6.799406\n",
       "2024-08-01    7.344604\n",
       "2024-09-01    6.393465\n",
       "2024-10-01    4.817970\n",
       "2024-11-01    3.737921\n",
       "2024-12-01    5.919777\n",
       "2025-01-01    5.577550\n",
       "2025-02-01    3.252500\n",
       "2025-03-01    5.175495\n",
       "Name: POWEROFF_CURR, dtype: float64"
      ]
     },
     "execution_count": 25,
     "metadata": {},
     "output_type": "execute_result"
    }
   ],
   "source": [
    "monthly_avg = df.groupby(df['MONTH'])['POWEROFF_CURR'].mean()\n",
    "monthly_avg"
   ]
  },
  {
   "cell_type": "code",
   "execution_count": 20,
   "id": "6a832a35-e196-4055-adda-10cfe99d2312",
   "metadata": {},
   "outputs": [
    {
     "name": "stderr",
     "output_type": "stream",
     "text": [
      "C:\\Users\\Lenovo\\AppData\\Local\\Temp\\ipykernel_5776\\3186836027.py:9: UserWarning: Glyph 128201 (\\N{CHART WITH DOWNWARDS TREND}) missing from font(s) DejaVu Sans.\n",
      "  plt.tight_layout()\n",
      "C:\\Users\\Lenovo\\AppData\\Roaming\\Python\\Python313\\site-packages\\IPython\\core\\pylabtools.py:170: UserWarning: Glyph 128201 (\\N{CHART WITH DOWNWARDS TREND}) missing from font(s) DejaVu Sans.\n",
      "  fig.canvas.print_figure(bytes_io, **kw)\n"
     ]
    },
    {
     "data": {
      "image/png": "[encoded data removed]",
      "text/plain": [
       "<Figure size 1200x600 with 1 Axes>"
      ]
     },
     "metadata": {},
     "output_type": "display_data"
    }
   ],
   "source": [
    "# Plot\n",
    "plt.figure(figsize=(12, 6))\n",
    "sns.lineplot(data=monthly_avg, marker='o', color='teal')\n",
    "plt.title('📉 Average Power Cut Duration Over Time')\n",
    "plt.xlabel('Month')\n",
    "plt.ylabel('Average Power Cut (hrs)')\n",
    "plt.xticks(rotation=45)\n",
    "plt.grid(True)\n",
    "plt.tight_layout()\n",
    "plt.show()\n"
   ]
  },
  {
   "cell_type": "markdown",
   "id": "029a9b36-735c-4b12-b336-5c55e1580754",
   "metadata": {},
   "source": [
    "<h3 style = \"color:yellow\">2) Which months had the highest and lowest power cuts?</h3>"
   ]
  },
  {
   "cell_type": "code",
   "execution_count": null,
   "id": "728405f5-83fd-4407-b80a-c875c1a8965e",
   "metadata": {},
   "outputs": [],
   "source": []
  },
  {
   "cell_type": "markdown",
   "id": "2512e655-3a3c-4780-88ce-daed23c4cafe",
   "metadata": {},
   "source": [
    "<h3 style = \"color:yellow\">3) Is there a seasonal pattern in power cuts (e.g., summer vs winter)?</h3>"
   ]
  },
  {
   "cell_type": "code",
   "execution_count": null,
   "id": "841e358b-da04-45c6-bf34-c3316f85a6c4",
   "metadata": {},
   "outputs": [],
   "source": []
  },
  {
   "cell_type": "markdown",
   "id": "1b266b10-a909-4488-b601-f0f936c69481",
   "metadata": {},
   "source": [
    "<h3 style = \"color:yellow\">4) Which CIRCLE experiences the highest average power cuts?</h3>"
   ]
  },
  {
   "cell_type": "code",
   "execution_count": null,
   "id": "63ee66a7-84a5-43ab-9aa6-630471c1c485",
   "metadata": {},
   "outputs": [],
   "source": []
  },
  {
   "cell_type": "markdown",
   "id": "9cf65112-fe46-454a-bac3-5496872f276a",
   "metadata": {},
   "source": [
    "<h3 style = \"color:yellow\">5) Which DIVISION has shown improvement or decline in power cuts (PER_CHANGE)?</h3>"
   ]
  },
  {
   "cell_type": "code",
   "execution_count": null,
   "id": "c41113ea-02c9-4090-bd88-c67232d514b9",
   "metadata": {},
   "outputs": [],
   "source": []
  },
  {
   "cell_type": "markdown",
   "id": "96aec6dc-5855-4eed-bbfc-d00653074d9e",
   "metadata": {},
   "source": [
    "<h3 style = \"color:yellow\">6) Map energy usage (KWH_CURR) by CIRCLE or DIVISION – who consumes the most?</h3>"
   ]
  },
  {
   "cell_type": "code",
   "execution_count": null,
   "id": "e7b064ee-278a-4126-8af9-9faae4e7ff42",
   "metadata": {},
   "outputs": [],
   "source": []
  },
  {
   "cell_type": "markdown",
   "id": "3aa939be-f27c-4d6f-8111-ef34be245d08",
   "metadata": {},
   "source": [
    "<h3 style = \"color:yellow\">7) Compare 1PH vs 3PH meters – which has higher power cut duration?</h3>"
   ]
  },
  {
   "cell_type": "code",
   "execution_count": null,
   "id": "9705b265-7e58-4085-bc11-b83bf3560df1",
   "metadata": {},
   "outputs": [],
   "source": []
  },
  {
   "cell_type": "markdown",
   "id": "25e73cdd-742c-4053-97c1-9c45e2494322",
   "metadata": {},
   "source": [
    "<h3 style = \"color:yellow\">8) Is there a correlation between meter type and energy consumption?</h3>"
   ]
  },
  {
   "cell_type": "code",
   "execution_count": null,
   "id": "2d986dd2-43d2-4ba8-9530-2f6778892a59",
   "metadata": {},
   "outputs": [],
   "source": []
  },
  {
   "cell_type": "markdown",
   "id": "3ace79cb-d4b5-4ea3-96a8-7b8d3ed23df6",
   "metadata": {},
   "source": [
    "<h3 style = \"color:yellow\">9) Is there a correlation between power cuts (POWEROFF_CURR) and energy consumption (KWH_CURR)?</h3>"
   ]
  },
  {
   "cell_type": "code",
   "execution_count": null,
   "id": "40ed261f-f683-49b8-8fc9-7d43e95370cc",
   "metadata": {},
   "outputs": [],
   "source": []
  },
  {
   "cell_type": "markdown",
   "id": "ca88bdb7-fd2e-4ec1-b25c-45d6ceef3bf0",
   "metadata": {},
   "source": [
    "<h3 style = \"color:yellow\">10) Does a higher number of engineers (ESO_CURR) result in lower power cuts?</h3>"
   ]
  },
  {
   "cell_type": "code",
   "execution_count": null,
   "id": "a163d0ad-b786-436d-88bc-9e2b457ef3f6",
   "metadata": {},
   "outputs": [],
   "source": []
  },
  {
   "cell_type": "markdown",
   "id": "7a4a3453-586f-49aa-b999-6785154da9f0",
   "metadata": {},
   "source": [
    "<h3 style = \"color:yellow\">11) What’s the average PER_CHANGE in power cuts per division?</h3>"
   ]
  },
  {
   "cell_type": "code",
   "execution_count": null,
   "id": "38631a17-8003-468c-9f92-d82700907621",
   "metadata": {},
   "outputs": [],
   "source": []
  },
  {
   "cell_type": "code",
   "execution_count": null,
   "id": "d47a4e42-f002-4c17-b37b-b796473bf660",
   "metadata": {},
   "outputs": [],
   "source": []
  }
 ],
 "metadata": {
  "kernelspec": {
   "display_name": "Python 3 (ipykernel)",
   "language": "python",
   "name": "python3"
  },
  "language_info": {
   "codemirror_mode": {
    "name": "ipython",
    "version": 3
   },
   "file_extension": ".py",
   "mimetype": "text/x-python",
   "name": "python",
   "nbconvert_exporter": "python",
   "pygments_lexer": "ipython3",
   "version": "3.13.0"
  },
  "widgets": {
   "application/vnd.jupyter.widget-state+json": {
    "state": {},
    "version_major": 2,
    "version_minor": 0
   }
  }
 },
 "nbformat": 4,
 "nbformat_minor": 5
}
